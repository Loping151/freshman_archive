{
 "cells": [
  {
   "cell_type": "markdown",
   "source": [],
   "metadata": {
    "collapsed": false
   }
  },
  {
   "cell_type": "code",
   "execution_count": null,
   "metadata": {
    "collapsed": true,
    "pycharm": {
     "is_executing": true
    }
   },
   "outputs": [],
   "source": [
    "import numpy as np\n",
    "from Lo_Gobang_151.submission import *"
   ]
  },
  {
   "cell_type": "code",
   "execution_count": null,
   "metadata": {
    "pycharm": {
     "is_executing": true,
     "name": "#%%\n"
    }
   },
   "outputs": [],
   "source": [
    "\n",
    "\n",
    "_x = [\n",
    "    [0, 0, 0, 0, 0, 0, 0, 0, 0, 0, 0, 0, 0, 0, 0],\n",
    "    [0, 0, 0, 0, 0, 0, 0, 0, 0, 0, 0, 0, 0, 0, 0],\n",
    "    [0, 0, 0, 0, 0, 0, 0, 0, 0, 0, 0, 0, 0, 0, 0],\n",
    "    [0, 0, 0, 0, 0, 0, 0, 0, 0, 0, 0, 0, 0, 0, 0],\n",
    "    [0, 0, 0, 0, 0, 0, 0, 0, 0, 0, 0, 0, 0, 0, 0],\n",
    "    [0, 0, 0, 0, 0, 0, 0, 0, 0, 0, 0, 0, 0, 0, 0],\n",
    "    [0, 0, 2, 0, 0, 0, 0, 0, 0, 0, 0, 0, 0, 0, 0],\n",
    "    [0, 0, 0, 2, 0, 0, 0, 0, 0, 0, 0, 0, 0, 0, 0],\n",
    "    [0, 0, 0, 0, 2, 0, 0, 0, 0, 0, 0, 0, 0, 0, 0],\n",
    "    [0, 0, 0, 0, 0, 2, 0, 0, 0, 0, 0, 0, 0, 0, 0],\n",
    "    [0, 0, 0, 0, 0, 0, 0, 0, 0, 0, 0, 0, 0, 0, 0],\n",
    "    [0, 0, 0, 0, 0, 0, 0, 0, 0, 0, 0, 0, 0, 0, 0],\n",
    "    [0, 0, 0, 0, 0, 0, 0, 0, 0, 0, 0, 0, 0, 0, 0],\n",
    "    [0, 0, 0, 0, 0, 0, 0, 0, 0, 0, 0, 0, 0, 0, 0],\n",
    "    [0, 0, 0, 0, 0, 0, 0, 0, 0, 0, 0, 0, 0, 0, 0],\n",
    "    ]"
   ]
  },
  {
   "cell_type": "code",
   "execution_count": null,
   "metadata": {
    "pycharm": {
     "is_executing": true,
     "name": "#%%\n"
    }
   },
   "outputs": [],
   "source": [
    "\n",
    "_x = np.array(_x)\n",
    "observations = {'state_map': _x, 'chess_player_idx': 1}"
   ]
  },
  {
   "cell_type": "code",
   "execution_count": 139,
   "metadata": {
    "pycharm": {
     "name": "#%%\n"
    }
   },
   "outputs": [
    {
     "name": "stdout",
     "output_type": "stream",
     "text": [
      "9 2\n",
      "[[0 0 0 0 0 0 0 0 0 0 0 0 0 0 0]\n",
      " [0 0 0 0 0 0 0 0 1 2 1 0 0 0 2]\n",
      " [0 0 0 0 0 2 1 2 2 2 1 0 0 1 0]\n",
      " [0 0 0 0 2 0 1 1 2 1 0 0 2 0 0]\n",
      " [0 0 0 0 2 1 2 2 2 1 0 2 1 2 0]\n",
      " [0 0 0 0 0 0 1 1 2 2 2 2 1 0 0]\n",
      " [0 0 0 0 0 2 1 2 1 1 0 1 2 0 0]\n",
      " [0 0 0 0 0 0 1 2 1 1 1 1 2 0 0]\n",
      " [0 0 0 1 1 1 0 1 2 1 1 0 1 2 0]\n",
      " [0 0 2 2 1 2 2 0 2 1 1 2 2 0 0]\n",
      " [0 0 0 1 2 1 0 0 0 2 2 1 0 0 0]\n",
      " [0 0 2 0 1 0 2 2 0 0 1 0 2 0 0]\n",
      " [0 0 0 0 0 0 0 0 0 0 0 0 0 0 0]\n",
      " [0 0 0 0 0 0 0 0 0 0 0 0 0 0 0]\n",
      " [0 0 0 0 0 0 0 0 0 0 0 0 0 0 0]]\n"
     ]
    }
   ],
   "source": [
    "\n",
    "res = my_controller(observations, 1)\n",
    "x = np.argmax(res[0])\n",
    "y = np.argmax(res[1])\n",
    "_x[x, y] = 2\n",
    "print(x, y)\n",
    "print(_x)"
   ]
  },
  {
   "cell_type": "code",
   "execution_count": 118,
   "metadata": {
    "pycharm": {
     "name": "#%%\n"
    }
   },
   "outputs": [
    {
     "name": "stdout",
     "output_type": "stream",
     "text": [
      "[[0 0 0 0 0 0 0 0 0 0 0 0 0 0 0]\n",
      " [0 0 0 0 0 0 0 0 1 2 1 0 0 0 2]\n",
      " [0 0 0 0 0 2 1 2 2 2 1 0 0 1 0]\n",
      " [0 0 0 0 2 0 1 1 2 1 0 0 2 0 0]\n",
      " [0 0 0 0 2 1 2 2 2 1 0 2 1 2 0]\n",
      " [0 0 0 0 0 0 1 1 2 2 2 2 1 0 0]\n",
      " [0 0 0 0 0 2 1 2 1 1 0 1 2 0 0]\n",
      " [0 0 0 0 0 0 1 2 1 1 1 1 2 0 0]\n",
      " [0 0 0 1 1 1 0 1 2 1 1 0 1 2 0]\n",
      " [0 0 0 2 1 0 2 0 2 1 1 2 2 0 0]\n",
      " [0 0 0 1 2 1 0 0 0 2 2 1 0 0 0]\n",
      " [0 0 2 0 1 0 2 2 0 0 1 0 2 0 0]\n",
      " [0 0 0 0 0 0 0 0 0 0 0 0 0 0 0]\n",
      " [0 0 0 0 0 0 0 0 0 0 0 0 0 0 0]\n",
      " [0 0 0 0 0 0 0 0 0 0 0 0 0 0 0]]\n"
     ]
    }
   ],
   "source": [
    "a, b = map(int, input().split())\n",
    "_x[a, b] = 1\n",
    "print(_x)"
   ]
  },
  {
   "cell_type": "code",
   "execution_count": 135,
   "metadata": {
    "pycharm": {
     "name": "#%%\n"
    }
   },
   "outputs": [],
   "source": [
    "_x = \\\n",
    "[[0, 0, 0, 0, 0, 0, 0, 0, 0, 0, 0, 0, 0, 0, 0],\n",
    " [0, 0, 0, 0, 0, 0, 0, 0, 1, 2, 1, 0, 0, 0, 2],\n",
    " [0, 0, 0, 0, 0, 2, 1, 2, 2, 2, 1, 0, 0, 1, 0],\n",
    " [0, 0, 0, 0, 2, 0, 1, 1, 2, 1, 0, 0, 2, 0, 0],\n",
    " [0, 0, 0, 0, 2, 1, 2, 2, 2, 1, 0, 2, 1, 2, 0],\n",
    " [0, 0, 0, 0, 0, 0, 1, 1, 2, 2, 2, 2, 1, 0, 0],\n",
    " [0, 0, 0, 0, 0, 2, 1, 2, 1, 1, 0, 1, 2, 0, 0],\n",
    " [0, 0, 0, 0, 0, 0, 1, 2, 1, 1, 1, 1, 2, 0, 0],\n",
    " [0, 0, 0, 1, 1, 1, 0, 1, 2, 1, 1, 0, 1, 2, 0],\n",
    " [0, 0, 0, 2, 1, 0, 2, 0, 2, 1, 1, 2, 2, 0, 0],\n",
    " [0, 0, 0, 1, 2, 1, 0, 0, 0, 2, 2, 1, 0, 0, 0],\n",
    " [0, 0, 2, 0, 1, 0, 2, 2, 0, 0, 1, 0, 2, 0, 0],\n",
    " [0, 0, 0, 0, 0, 0, 0, 0, 0, 0, 0, 0, 0, 0, 0],\n",
    " [0, 0, 0, 0, 0, 0, 0, 0, 0, 0, 0, 0, 0, 0, 0],\n",
    " [0, 0, 0, 0, 0, 0, 0, 0, 0, 0, 0, 0, 0, 0, 0]]"
   ]
  }
 ],
 "metadata": {
  "kernelspec": {
   "display_name": "Python 3 (ipykernel)",
   "language": "python",
   "name": "python3"
  },
  "language_info": {
   "codemirror_mode": {
    "name": "ipython",
    "version": 2
   },
   "file_extension": ".py",
   "mimetype": "text/x-python",
   "name": "python",
   "nbconvert_exporter": "python",
   "pygments_lexer": "ipython2",
   "version": "2.7.6"
  }
 },
 "nbformat": 4,
 "nbformat_minor": 1
}